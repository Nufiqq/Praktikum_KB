{
 "cells": [
  {
   "cell_type": "markdown",
   "metadata": {},
   "source": [
    "# Posttest 2 Nupiq"
   ]
  },
  {
   "cell_type": "markdown",
   "metadata": {},
   "source": [
    "### Import Package"
   ]
  },
  {
   "cell_type": "code",
   "execution_count": 7,
   "metadata": {},
   "outputs": [],
   "source": [
    "import pandas as pd"
   ]
  },
  {
   "cell_type": "markdown",
   "metadata": {},
   "source": [
    "### Read CSV"
   ]
  },
  {
   "cell_type": "code",
   "execution_count": 8,
   "metadata": {},
   "outputs": [],
   "source": [
    "df = pd.read_csv(\"Movies.csv\")"
   ]
  },
  {
   "cell_type": "code",
   "execution_count": 9,
   "metadata": {},
   "outputs": [
    {
     "data": {
      "text/html": [
       "<div>\n",
       "<style scoped>\n",
       "    .dataframe tbody tr th:only-of-type {\n",
       "        vertical-align: middle;\n",
       "    }\n",
       "\n",
       "    .dataframe tbody tr th {\n",
       "        vertical-align: top;\n",
       "    }\n",
       "\n",
       "    .dataframe thead th {\n",
       "        text-align: right;\n",
       "    }\n",
       "</style>\n",
       "<table border=\"1\" class=\"dataframe\">\n",
       "  <thead>\n",
       "    <tr style=\"text-align: right;\">\n",
       "      <th></th>\n",
       "      <th>id</th>\n",
       "      <th>title</th>\n",
       "      <th>overview</th>\n",
       "      <th>release_date</th>\n",
       "      <th>popularity</th>\n",
       "      <th>vote_average</th>\n",
       "      <th>vote_count</th>\n",
       "    </tr>\n",
       "  </thead>\n",
       "  <tbody>\n",
       "    <tr>\n",
       "      <th>0</th>\n",
       "      <td>238</td>\n",
       "      <td>The Godfather</td>\n",
       "      <td>Spanning the years 1945 to 1955, a chronicle o...</td>\n",
       "      <td>14-03-72</td>\n",
       "      <td>87.259</td>\n",
       "      <td>8.7</td>\n",
       "      <td>16607</td>\n",
       "    </tr>\n",
       "    <tr>\n",
       "      <th>1</th>\n",
       "      <td>278</td>\n",
       "      <td>The Shawshank Redemption</td>\n",
       "      <td>Framed in the 1940s for the double murder of h...</td>\n",
       "      <td>23-09-94</td>\n",
       "      <td>74.450</td>\n",
       "      <td>8.7</td>\n",
       "      <td>22327</td>\n",
       "    </tr>\n",
       "    <tr>\n",
       "      <th>2</th>\n",
       "      <td>240</td>\n",
       "      <td>The Godfather Part II</td>\n",
       "      <td>In the continuing saga of the Corleone crime f...</td>\n",
       "      <td>20-12-74</td>\n",
       "      <td>53.295</td>\n",
       "      <td>8.6</td>\n",
       "      <td>10043</td>\n",
       "    </tr>\n",
       "    <tr>\n",
       "      <th>3</th>\n",
       "      <td>19404</td>\n",
       "      <td>Dilwale Dulhania Le Jayenge</td>\n",
       "      <td>Raj is a rich, carefree, happy-go-lucky second...</td>\n",
       "      <td>19-10-95</td>\n",
       "      <td>39.465</td>\n",
       "      <td>8.6</td>\n",
       "      <td>3875</td>\n",
       "    </tr>\n",
       "    <tr>\n",
       "      <th>4</th>\n",
       "      <td>424</td>\n",
       "      <td>Schindler's List</td>\n",
       "      <td>The true story of how businessman Oskar Schind...</td>\n",
       "      <td>15-12-93</td>\n",
       "      <td>51.786</td>\n",
       "      <td>8.6</td>\n",
       "      <td>13238</td>\n",
       "    </tr>\n",
       "    <tr>\n",
       "      <th>...</th>\n",
       "      <td>...</td>\n",
       "      <td>...</td>\n",
       "      <td>...</td>\n",
       "      <td>...</td>\n",
       "      <td>...</td>\n",
       "      <td>...</td>\n",
       "      <td>...</td>\n",
       "    </tr>\n",
       "    <tr>\n",
       "      <th>1996</th>\n",
       "      <td>362045</td>\n",
       "      <td>Bajirao Mastani</td>\n",
       "      <td>Peshwa Bajirao married to Kashibai, falls in l...</td>\n",
       "      <td>18-12-15</td>\n",
       "      <td>9.539</td>\n",
       "      <td>7.3</td>\n",
       "      <td>227</td>\n",
       "    </tr>\n",
       "    <tr>\n",
       "      <th>1997</th>\n",
       "      <td>360606</td>\n",
       "      <td>Adventures in Babysitting</td>\n",
       "      <td>Two teen rival babysitters, Jenny and Lola, te...</td>\n",
       "      <td>24-06-16</td>\n",
       "      <td>19.964</td>\n",
       "      <td>7.3</td>\n",
       "      <td>332</td>\n",
       "    </tr>\n",
       "    <tr>\n",
       "      <th>1998</th>\n",
       "      <td>65229</td>\n",
       "      <td>Tomboy</td>\n",
       "      <td>A French family moves to a new neighborhood wi...</td>\n",
       "      <td>20-04-11</td>\n",
       "      <td>11.369</td>\n",
       "      <td>7.3</td>\n",
       "      <td>564</td>\n",
       "    </tr>\n",
       "    <tr>\n",
       "      <th>1999</th>\n",
       "      <td>20312</td>\n",
       "      <td>Interstate 60</td>\n",
       "      <td>An aspiring painter meets various characters a...</td>\n",
       "      <td>13-04-02</td>\n",
       "      <td>11.570</td>\n",
       "      <td>7.3</td>\n",
       "      <td>511</td>\n",
       "    </tr>\n",
       "    <tr>\n",
       "      <th>2000</th>\n",
       "      <td>4543</td>\n",
       "      <td>The Meaning of Life</td>\n",
       "      <td>Life's questions are 'answered' in a series of...</td>\n",
       "      <td>31-03-83</td>\n",
       "      <td>17.498</td>\n",
       "      <td>7.3</td>\n",
       "      <td>1512</td>\n",
       "    </tr>\n",
       "  </tbody>\n",
       "</table>\n",
       "<p>2001 rows × 7 columns</p>\n",
       "</div>"
      ],
      "text/plain": [
       "          id                        title  \\\n",
       "0        238                The Godfather   \n",
       "1        278     The Shawshank Redemption   \n",
       "2        240        The Godfather Part II   \n",
       "3      19404  Dilwale Dulhania Le Jayenge   \n",
       "4        424             Schindler's List   \n",
       "...      ...                          ...   \n",
       "1996  362045              Bajirao Mastani   \n",
       "1997  360606    Adventures in Babysitting   \n",
       "1998   65229                       Tomboy   \n",
       "1999   20312                Interstate 60   \n",
       "2000    4543          The Meaning of Life   \n",
       "\n",
       "                                               overview release_date  \\\n",
       "0     Spanning the years 1945 to 1955, a chronicle o...     14-03-72   \n",
       "1     Framed in the 1940s for the double murder of h...     23-09-94   \n",
       "2     In the continuing saga of the Corleone crime f...     20-12-74   \n",
       "3     Raj is a rich, carefree, happy-go-lucky second...     19-10-95   \n",
       "4     The true story of how businessman Oskar Schind...     15-12-93   \n",
       "...                                                 ...          ...   \n",
       "1996  Peshwa Bajirao married to Kashibai, falls in l...     18-12-15   \n",
       "1997  Two teen rival babysitters, Jenny and Lola, te...     24-06-16   \n",
       "1998  A French family moves to a new neighborhood wi...     20-04-11   \n",
       "1999  An aspiring painter meets various characters a...     13-04-02   \n",
       "2000  Life's questions are 'answered' in a series of...     31-03-83   \n",
       "\n",
       "      popularity  vote_average  vote_count  \n",
       "0         87.259           8.7       16607  \n",
       "1         74.450           8.7       22327  \n",
       "2         53.295           8.6       10043  \n",
       "3         39.465           8.6        3875  \n",
       "4         51.786           8.6       13238  \n",
       "...          ...           ...         ...  \n",
       "1996       9.539           7.3         227  \n",
       "1997      19.964           7.3         332  \n",
       "1998      11.369           7.3         564  \n",
       "1999      11.570           7.3         511  \n",
       "2000      17.498           7.3        1512  \n",
       "\n",
       "[2001 rows x 7 columns]"
      ]
     },
     "execution_count": 9,
     "metadata": {},
     "output_type": "execute_result"
    }
   ],
   "source": [
    "df"
   ]
  },
  {
   "cell_type": "markdown",
   "metadata": {},
   "source": [
    "### Dataset Types"
   ]
  },
  {
   "cell_type": "code",
   "execution_count": 10,
   "metadata": {},
   "outputs": [
    {
     "data": {
      "text/plain": [
       "id                int64\n",
       "title            object\n",
       "overview         object\n",
       "release_date     object\n",
       "popularity      float64\n",
       "vote_average    float64\n",
       "vote_count        int64\n",
       "dtype: object"
      ]
     },
     "execution_count": 10,
     "metadata": {},
     "output_type": "execute_result"
    }
   ],
   "source": [
    "df.dtypes"
   ]
  },
  {
   "cell_type": "markdown",
   "metadata": {},
   "source": [
    "### 1\n",
    "Informasi yang didapatkan adalah jumlah record, nama atribut, jumlah atribut dengan tipe objek, jumlah atribut dengan tipe angka, jumlah atribut yang memiliki nilai null."
   ]
  },
  {
   "cell_type": "code",
   "execution_count": 12,
   "metadata": {},
   "outputs": [
    {
     "data": {
      "text/plain": [
       "Jumlah Record                                                    2001\n",
       "Nama Attribute      Index(['id', 'title', 'overview', 'release_dat...\n",
       "Jumlah Attribute                                                    7\n",
       "Jumlah Objek                                                        3\n",
       "Jumlah Angka                                                        4\n",
       "Jumlah NULL                                                         0\n",
       "dtype: object"
      ]
     },
     "execution_count": 12,
     "metadata": {},
     "output_type": "execute_result"
    }
   ],
   "source": [
    "jumlahRecord = len(df)\n",
    "namaAttribute = df.columns\n",
    "jumlahObjek = len(df.select_dtypes(include=['object']).columns)\n",
    "jumlahAngka = len(df.select_dtypes(include=['int64', 'float64']).columns)\n",
    "jumlahNULL = len(df.columns[df.isna().sum() > 0])\n",
    "\n",
    "dictionary_no1 = {\n",
    "    \"Jumlah Record\": jumlahRecord,\n",
    "    \"Nama Attribute\": namaAttribute,\n",
    "    \"Jumlah Attribute dengan Tipe Objek\": jumlahObjek,\n",
    "    \"Jumlah Atttribute dengan Tipe Angka\": jumlahAngka,\n",
    "    \"Jumlah Attribute dengan Nilai NULL\": jumlahNULL,\n",
    "}\n",
    "\n",
    "pd.Series(dictionary_no1)"
   ]
  }
 ],
 "metadata": {
  "kernelspec": {
   "display_name": "Python 3.10.7 64-bit",
   "language": "python",
   "name": "python3"
  },
  "language_info": {
   "codemirror_mode": {
    "name": "ipython",
    "version": 3
   },
   "file_extension": ".py",
   "mimetype": "text/x-python",
   "name": "python",
   "nbconvert_exporter": "python",
   "pygments_lexer": "ipython3",
   "version": "3.10.7"
  },
  "orig_nbformat": 4,
  "vscode": {
   "interpreter": {
    "hash": "27f6fea6f47ae512550f0b8facdbd035a93e1dd89633f7bf2dd00a2502c71d0d"
   }
  }
 },
 "nbformat": 4,
 "nbformat_minor": 2
}
