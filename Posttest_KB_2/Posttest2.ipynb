{
 "cells": [
  {
   "cell_type": "markdown",
   "metadata": {},
   "source": [
    "# Posttest 2 Nupiq\n",
    "2009106083"
   ]
  },
  {
   "cell_type": "markdown",
   "metadata": {},
   "source": [
    "### Import Pandas Package"
   ]
  },
  {
   "cell_type": "code",
   "execution_count": 26,
   "metadata": {},
   "outputs": [],
   "source": [
    "import pandas as pd"
   ]
  },
  {
   "cell_type": "markdown",
   "metadata": {},
   "source": [
    "### Read Dataset"
   ]
  },
  {
   "cell_type": "code",
   "execution_count": 27,
   "metadata": {},
   "outputs": [],
   "source": [
    "df = pd.read_csv(\"Movies.csv\")"
   ]
  },
  {
   "cell_type": "code",
   "execution_count": 28,
   "metadata": {},
   "outputs": [
    {
     "data": {
      "text/html": [
       "<div>\n",
       "<style scoped>\n",
       "    .dataframe tbody tr th:only-of-type {\n",
       "        vertical-align: middle;\n",
       "    }\n",
       "\n",
       "    .dataframe tbody tr th {\n",
       "        vertical-align: top;\n",
       "    }\n",
       "\n",
       "    .dataframe thead th {\n",
       "        text-align: right;\n",
       "    }\n",
       "</style>\n",
       "<table border=\"1\" class=\"dataframe\">\n",
       "  <thead>\n",
       "    <tr style=\"text-align: right;\">\n",
       "      <th></th>\n",
       "      <th>id</th>\n",
       "      <th>title</th>\n",
       "      <th>overview</th>\n",
       "      <th>release_date</th>\n",
       "      <th>popularity</th>\n",
       "      <th>vote_average</th>\n",
       "      <th>vote_count</th>\n",
       "    </tr>\n",
       "  </thead>\n",
       "  <tbody>\n",
       "    <tr>\n",
       "      <th>0</th>\n",
       "      <td>238</td>\n",
       "      <td>The Godfather</td>\n",
       "      <td>Spanning the years 1945 to 1955, a chronicle o...</td>\n",
       "      <td>14-03-72</td>\n",
       "      <td>87.259</td>\n",
       "      <td>8.7</td>\n",
       "      <td>16607</td>\n",
       "    </tr>\n",
       "    <tr>\n",
       "      <th>1</th>\n",
       "      <td>278</td>\n",
       "      <td>The Shawshank Redemption</td>\n",
       "      <td>Framed in the 1940s for the double murder of h...</td>\n",
       "      <td>23-09-94</td>\n",
       "      <td>74.450</td>\n",
       "      <td>8.7</td>\n",
       "      <td>22327</td>\n",
       "    </tr>\n",
       "    <tr>\n",
       "      <th>2</th>\n",
       "      <td>240</td>\n",
       "      <td>The Godfather Part II</td>\n",
       "      <td>In the continuing saga of the Corleone crime f...</td>\n",
       "      <td>20-12-74</td>\n",
       "      <td>53.295</td>\n",
       "      <td>8.6</td>\n",
       "      <td>10043</td>\n",
       "    </tr>\n",
       "    <tr>\n",
       "      <th>3</th>\n",
       "      <td>19404</td>\n",
       "      <td>Dilwale Dulhania Le Jayenge</td>\n",
       "      <td>Raj is a rich, carefree, happy-go-lucky second...</td>\n",
       "      <td>19-10-95</td>\n",
       "      <td>39.465</td>\n",
       "      <td>8.6</td>\n",
       "      <td>3875</td>\n",
       "    </tr>\n",
       "    <tr>\n",
       "      <th>4</th>\n",
       "      <td>424</td>\n",
       "      <td>Schindler's List</td>\n",
       "      <td>The true story of how businessman Oskar Schind...</td>\n",
       "      <td>15-12-93</td>\n",
       "      <td>51.786</td>\n",
       "      <td>8.6</td>\n",
       "      <td>13238</td>\n",
       "    </tr>\n",
       "    <tr>\n",
       "      <th>...</th>\n",
       "      <td>...</td>\n",
       "      <td>...</td>\n",
       "      <td>...</td>\n",
       "      <td>...</td>\n",
       "      <td>...</td>\n",
       "      <td>...</td>\n",
       "      <td>...</td>\n",
       "    </tr>\n",
       "    <tr>\n",
       "      <th>1996</th>\n",
       "      <td>362045</td>\n",
       "      <td>Bajirao Mastani</td>\n",
       "      <td>Peshwa Bajirao married to Kashibai, falls in l...</td>\n",
       "      <td>18-12-15</td>\n",
       "      <td>9.539</td>\n",
       "      <td>7.3</td>\n",
       "      <td>227</td>\n",
       "    </tr>\n",
       "    <tr>\n",
       "      <th>1997</th>\n",
       "      <td>360606</td>\n",
       "      <td>Adventures in Babysitting</td>\n",
       "      <td>Two teen rival babysitters, Jenny and Lola, te...</td>\n",
       "      <td>24-06-16</td>\n",
       "      <td>19.964</td>\n",
       "      <td>7.3</td>\n",
       "      <td>332</td>\n",
       "    </tr>\n",
       "    <tr>\n",
       "      <th>1998</th>\n",
       "      <td>65229</td>\n",
       "      <td>Tomboy</td>\n",
       "      <td>A French family moves to a new neighborhood wi...</td>\n",
       "      <td>20-04-11</td>\n",
       "      <td>11.369</td>\n",
       "      <td>7.3</td>\n",
       "      <td>564</td>\n",
       "    </tr>\n",
       "    <tr>\n",
       "      <th>1999</th>\n",
       "      <td>20312</td>\n",
       "      <td>Interstate 60</td>\n",
       "      <td>An aspiring painter meets various characters a...</td>\n",
       "      <td>13-04-02</td>\n",
       "      <td>11.570</td>\n",
       "      <td>7.3</td>\n",
       "      <td>511</td>\n",
       "    </tr>\n",
       "    <tr>\n",
       "      <th>2000</th>\n",
       "      <td>4543</td>\n",
       "      <td>The Meaning of Life</td>\n",
       "      <td>Life's questions are 'answered' in a series of...</td>\n",
       "      <td>31-03-83</td>\n",
       "      <td>17.498</td>\n",
       "      <td>7.3</td>\n",
       "      <td>1512</td>\n",
       "    </tr>\n",
       "  </tbody>\n",
       "</table>\n",
       "<p>2001 rows × 7 columns</p>\n",
       "</div>"
      ],
      "text/plain": [
       "          id                        title  \\\n",
       "0        238                The Godfather   \n",
       "1        278     The Shawshank Redemption   \n",
       "2        240        The Godfather Part II   \n",
       "3      19404  Dilwale Dulhania Le Jayenge   \n",
       "4        424             Schindler's List   \n",
       "...      ...                          ...   \n",
       "1996  362045              Bajirao Mastani   \n",
       "1997  360606    Adventures in Babysitting   \n",
       "1998   65229                       Tomboy   \n",
       "1999   20312                Interstate 60   \n",
       "2000    4543          The Meaning of Life   \n",
       "\n",
       "                                               overview release_date  \\\n",
       "0     Spanning the years 1945 to 1955, a chronicle o...     14-03-72   \n",
       "1     Framed in the 1940s for the double murder of h...     23-09-94   \n",
       "2     In the continuing saga of the Corleone crime f...     20-12-74   \n",
       "3     Raj is a rich, carefree, happy-go-lucky second...     19-10-95   \n",
       "4     The true story of how businessman Oskar Schind...     15-12-93   \n",
       "...                                                 ...          ...   \n",
       "1996  Peshwa Bajirao married to Kashibai, falls in l...     18-12-15   \n",
       "1997  Two teen rival babysitters, Jenny and Lola, te...     24-06-16   \n",
       "1998  A French family moves to a new neighborhood wi...     20-04-11   \n",
       "1999  An aspiring painter meets various characters a...     13-04-02   \n",
       "2000  Life's questions are 'answered' in a series of...     31-03-83   \n",
       "\n",
       "      popularity  vote_average  vote_count  \n",
       "0         87.259           8.7       16607  \n",
       "1         74.450           8.7       22327  \n",
       "2         53.295           8.6       10043  \n",
       "3         39.465           8.6        3875  \n",
       "4         51.786           8.6       13238  \n",
       "...          ...           ...         ...  \n",
       "1996       9.539           7.3         227  \n",
       "1997      19.964           7.3         332  \n",
       "1998      11.369           7.3         564  \n",
       "1999      11.570           7.3         511  \n",
       "2000      17.498           7.3        1512  \n",
       "\n",
       "[2001 rows x 7 columns]"
      ]
     },
     "execution_count": 28,
     "metadata": {},
     "output_type": "execute_result"
    }
   ],
   "source": [
    "df"
   ]
  },
  {
   "cell_type": "markdown",
   "metadata": {},
   "source": [
    "1. Informasi yang didapatkan adalah<br>1. Jumlah record<br>2. Nama atribut<br>3. Jumlah atribut dengan tipe objek<br>4. Jumlah atribut dengan tipe angka<br>5. Jumlah atribut yang memiliki nilai null.<br><br>Masukkan informasi di atas dalam dictionary dengan key<br>sesuai nama informasinya. Tampilkan isi dari dictionary<br>tersebut sebagus mungkin"
   ]
  },
  {
   "cell_type": "code",
   "execution_count": 29,
   "metadata": {},
   "outputs": [
    {
     "data": {
      "text/plain": [
       "1. Jumlah Record                                                                    2001\n",
       "2. Nama Atribut                        Index(['id', 'title', 'overview', 'release_dat...\n",
       "3. Jumlah Atribut dengan Tipe Objek                                                    3\n",
       "4. Jumlah Atribut dengan Tipe Angka                                                    4\n",
       "5. Jumlah Atribut dengan Nilai NULL                                                    0\n",
       "dtype: object"
      ]
     },
     "execution_count": 29,
     "metadata": {},
     "output_type": "execute_result"
    }
   ],
   "source": [
    "jumlahRecord = len(df)\n",
    "namaAtribut = df.columns\n",
    "jumlahObjek = len(df.select_dtypes(include=['object']).columns)\n",
    "jumlahAngka = len(df.select_dtypes(include=['int64', 'float64']).columns)\n",
    "jumlahNULL = len(df.columns[df.isna().sum() > 0])\n",
    "\n",
    "dictionary = {\n",
    "    \"1. Jumlah Record\": jumlahRecord,\n",
    "    \"2. Nama Atribut\": namaAtribut,\n",
    "    \"3. Jumlah Atribut dengan Tipe Objek\": jumlahObjek,\n",
    "    \"4. Jumlah Atribut dengan Tipe Angka\": jumlahAngka,\n",
    "    \"5. Jumlah Atribut dengan Nilai NULL\": jumlahNULL,\n",
    "}\n",
    "\n",
    "pd.Series(dictionary)"
   ]
  },
  {
   "cell_type": "markdown",
   "metadata": {},
   "source": [
    "2. Tampilkan rata-rata, standar deviasi, nilai minimum, nilai<br>maksimum, Q1, Q2, dan Q3 dari attribute bertipe angka.\n"
   ]
  },
  {
   "cell_type": "markdown",
   "metadata": {},
   "source": [
    "Tampilkan Nilai rata-rata"
   ]
  },
  {
   "cell_type": "code",
   "execution_count": 30,
   "metadata": {},
   "outputs": [
    {
     "data": {
      "text/plain": [
       "id              165192.644178\n",
       "popularity          48.507422\n",
       "vote_average         7.692354\n",
       "vote_count        2794.418291\n",
       "dtype: float64"
      ]
     },
     "execution_count": 30,
     "metadata": {},
     "output_type": "execute_result"
    }
   ],
   "source": [
    "df.select_dtypes(include=['int64', 'float64']).mean()"
   ]
  },
  {
   "cell_type": "markdown",
   "metadata": {},
   "source": [
    "Tampilkan Nilai Standar deviasi"
   ]
  },
  {
   "cell_type": "code",
   "execution_count": 31,
   "metadata": {},
   "outputs": [
    {
     "data": {
      "text/plain": [
       "id              232417.457179\n",
       "popularity         194.295225\n",
       "vote_average         0.291095\n",
       "vote_count        4416.430718\n",
       "dtype: float64"
      ]
     },
     "execution_count": 31,
     "metadata": {},
     "output_type": "execute_result"
    }
   ],
   "source": [
    "df.select_dtypes(include=['int64', 'float64']).std()"
   ]
  },
  {
   "cell_type": "markdown",
   "metadata": {},
   "source": [
    "Tampilkan Nilai Minimum"
   ]
  },
  {
   "cell_type": "code",
   "execution_count": 32,
   "metadata": {},
   "outputs": [
    {
     "data": {
      "text/plain": [
       "id               11.0\n",
       "popularity        0.6\n",
       "vote_average      7.3\n",
       "vote_count      200.0\n",
       "dtype: float64"
      ]
     },
     "execution_count": 32,
     "metadata": {},
     "output_type": "execute_result"
    }
   ],
   "source": [
    "df.select_dtypes(include=['int64', 'float64']).min()"
   ]
  },
  {
   "cell_type": "markdown",
   "metadata": {},
   "source": [
    "Tampilkan Nilai Maksimum"
   ]
  },
  {
   "cell_type": "code",
   "execution_count": 33,
   "metadata": {},
   "outputs": [
    {
     "data": {
      "text/plain": [
       "id              985939.00\n",
       "popularity        6059.21\n",
       "vote_average         8.70\n",
       "vote_count       32301.00\n",
       "dtype: float64"
      ]
     },
     "execution_count": 33,
     "metadata": {},
     "output_type": "execute_result"
    }
   ],
   "source": [
    "df.select_dtypes(include=['int64', 'float64']).max()"
   ]
  },
  {
   "cell_type": "markdown",
   "metadata": {},
   "source": [
    "Tampilkan Nilai Q1, Q2, dan Q3"
   ]
  },
  {
   "cell_type": "code",
   "execution_count": 34,
   "metadata": {},
   "outputs": [
    {
     "data": {
      "text/html": [
       "<div>\n",
       "<style scoped>\n",
       "    .dataframe tbody tr th:only-of-type {\n",
       "        vertical-align: middle;\n",
       "    }\n",
       "\n",
       "    .dataframe tbody tr th {\n",
       "        vertical-align: top;\n",
       "    }\n",
       "\n",
       "    .dataframe thead th {\n",
       "        text-align: right;\n",
       "    }\n",
       "</style>\n",
       "<table border=\"1\" class=\"dataframe\">\n",
       "  <thead>\n",
       "    <tr style=\"text-align: right;\">\n",
       "      <th></th>\n",
       "      <th>id</th>\n",
       "      <th>popularity</th>\n",
       "      <th>vote_average</th>\n",
       "      <th>vote_count</th>\n",
       "    </tr>\n",
       "  </thead>\n",
       "  <tbody>\n",
       "    <tr>\n",
       "      <th>0.25</th>\n",
       "      <td>3063.0</td>\n",
       "      <td>10.909</td>\n",
       "      <td>7.5</td>\n",
       "      <td>396.0</td>\n",
       "    </tr>\n",
       "    <tr>\n",
       "      <th>0.50</th>\n",
       "      <td>19101.0</td>\n",
       "      <td>17.013</td>\n",
       "      <td>7.6</td>\n",
       "      <td>893.0</td>\n",
       "    </tr>\n",
       "    <tr>\n",
       "      <th>0.75</th>\n",
       "      <td>332270.0</td>\n",
       "      <td>35.259</td>\n",
       "      <td>7.9</td>\n",
       "      <td>2828.0</td>\n",
       "    </tr>\n",
       "  </tbody>\n",
       "</table>\n",
       "</div>"
      ],
      "text/plain": [
       "            id  popularity  vote_average  vote_count\n",
       "0.25    3063.0      10.909           7.5       396.0\n",
       "0.50   19101.0      17.013           7.6       893.0\n",
       "0.75  332270.0      35.259           7.9      2828.0"
      ]
     },
     "execution_count": 34,
     "metadata": {},
     "output_type": "execute_result"
    }
   ],
   "source": [
    "df.select_dtypes(include=['int64', 'float64']).quantile([0.25,0.5,0.75])"
   ]
  },
  {
   "cell_type": "markdown",
   "metadata": {},
   "source": [
    "3. Tampilkan nilai korelasi attribute bertipe angka."
   ]
  },
  {
   "cell_type": "code",
   "execution_count": 35,
   "metadata": {},
   "outputs": [
    {
     "data": {
      "text/html": [
       "<div>\n",
       "<style scoped>\n",
       "    .dataframe tbody tr th:only-of-type {\n",
       "        vertical-align: middle;\n",
       "    }\n",
       "\n",
       "    .dataframe tbody tr th {\n",
       "        vertical-align: top;\n",
       "    }\n",
       "\n",
       "    .dataframe thead th {\n",
       "        text-align: right;\n",
       "    }\n",
       "</style>\n",
       "<table border=\"1\" class=\"dataframe\">\n",
       "  <thead>\n",
       "    <tr style=\"text-align: right;\">\n",
       "      <th></th>\n",
       "      <th>id</th>\n",
       "      <th>popularity</th>\n",
       "      <th>vote_average</th>\n",
       "      <th>vote_count</th>\n",
       "    </tr>\n",
       "  </thead>\n",
       "  <tbody>\n",
       "    <tr>\n",
       "      <th>id</th>\n",
       "      <td>1.000000</td>\n",
       "      <td>0.227929</td>\n",
       "      <td>0.079527</td>\n",
       "      <td>-0.089224</td>\n",
       "    </tr>\n",
       "    <tr>\n",
       "      <th>popularity</th>\n",
       "      <td>0.227929</td>\n",
       "      <td>1.000000</td>\n",
       "      <td>0.047942</td>\n",
       "      <td>0.117795</td>\n",
       "    </tr>\n",
       "    <tr>\n",
       "      <th>vote_average</th>\n",
       "      <td>0.079527</td>\n",
       "      <td>0.047942</td>\n",
       "      <td>1.000000</td>\n",
       "      <td>0.243134</td>\n",
       "    </tr>\n",
       "    <tr>\n",
       "      <th>vote_count</th>\n",
       "      <td>-0.089224</td>\n",
       "      <td>0.117795</td>\n",
       "      <td>0.243134</td>\n",
       "      <td>1.000000</td>\n",
       "    </tr>\n",
       "  </tbody>\n",
       "</table>\n",
       "</div>"
      ],
      "text/plain": [
       "                    id  popularity  vote_average  vote_count\n",
       "id            1.000000    0.227929      0.079527   -0.089224\n",
       "popularity    0.227929    1.000000      0.047942    0.117795\n",
       "vote_average  0.079527    0.047942      1.000000    0.243134\n",
       "vote_count   -0.089224    0.117795      0.243134    1.000000"
      ]
     },
     "execution_count": 35,
     "metadata": {},
     "output_type": "execute_result"
    }
   ],
   "source": [
    "df.select_dtypes(include=['int64', 'float64']).corr()"
   ]
  },
  {
   "cell_type": "markdown",
   "metadata": {},
   "source": [
    "4. Rubah nilai salah satu attribute bertipe angka dari desimal menjadi bilangan bulat).\n"
   ]
  },
  {
   "cell_type": "markdown",
   "metadata": {},
   "source": [
    "Dataset types"
   ]
  },
  {
   "cell_type": "code",
   "execution_count": 36,
   "metadata": {},
   "outputs": [
    {
     "data": {
      "text/plain": [
       "id                int64\n",
       "title            object\n",
       "overview         object\n",
       "release_date     object\n",
       "popularity      float64\n",
       "vote_average    float64\n",
       "vote_count        int64\n",
       "dtype: object"
      ]
     },
     "execution_count": 36,
     "metadata": {},
     "output_type": "execute_result"
    }
   ],
   "source": [
    "df.dtypes"
   ]
  },
  {
   "cell_type": "code",
   "execution_count": 37,
   "metadata": {},
   "outputs": [
    {
     "data": {
      "text/plain": [
       "id                int64\n",
       "title            object\n",
       "overview         object\n",
       "release_date     object\n",
       "popularity      float64\n",
       "vote_average    float64\n",
       "vote_count      float64\n",
       "dtype: object"
      ]
     },
     "execution_count": 37,
     "metadata": {},
     "output_type": "execute_result"
    }
   ],
   "source": [
    "df[\"vote_count\"] = df[\"vote_count\"].astype(\"float64\")\n",
    "df.dtypes"
   ]
  },
  {
   "cell_type": "markdown",
   "metadata": {},
   "source": [
    "5. Tampilkan 10 record pertama dari attribute bertipe angka."
   ]
  },
  {
   "cell_type": "code",
   "execution_count": 38,
   "metadata": {},
   "outputs": [
    {
     "data": {
      "text/html": [
       "<div>\n",
       "<style scoped>\n",
       "    .dataframe tbody tr th:only-of-type {\n",
       "        vertical-align: middle;\n",
       "    }\n",
       "\n",
       "    .dataframe tbody tr th {\n",
       "        vertical-align: top;\n",
       "    }\n",
       "\n",
       "    .dataframe thead th {\n",
       "        text-align: right;\n",
       "    }\n",
       "</style>\n",
       "<table border=\"1\" class=\"dataframe\">\n",
       "  <thead>\n",
       "    <tr style=\"text-align: right;\">\n",
       "      <th></th>\n",
       "      <th>id</th>\n",
       "      <th>popularity</th>\n",
       "      <th>vote_average</th>\n",
       "      <th>vote_count</th>\n",
       "    </tr>\n",
       "  </thead>\n",
       "  <tbody>\n",
       "    <tr>\n",
       "      <th>0</th>\n",
       "      <td>238</td>\n",
       "      <td>87.259</td>\n",
       "      <td>8.7</td>\n",
       "      <td>16607.0</td>\n",
       "    </tr>\n",
       "    <tr>\n",
       "      <th>1</th>\n",
       "      <td>278</td>\n",
       "      <td>74.450</td>\n",
       "      <td>8.7</td>\n",
       "      <td>22327.0</td>\n",
       "    </tr>\n",
       "    <tr>\n",
       "      <th>2</th>\n",
       "      <td>240</td>\n",
       "      <td>53.295</td>\n",
       "      <td>8.6</td>\n",
       "      <td>10043.0</td>\n",
       "    </tr>\n",
       "    <tr>\n",
       "      <th>3</th>\n",
       "      <td>19404</td>\n",
       "      <td>39.465</td>\n",
       "      <td>8.6</td>\n",
       "      <td>3875.0</td>\n",
       "    </tr>\n",
       "    <tr>\n",
       "      <th>4</th>\n",
       "      <td>424</td>\n",
       "      <td>51.786</td>\n",
       "      <td>8.6</td>\n",
       "      <td>13238.0</td>\n",
       "    </tr>\n",
       "    <tr>\n",
       "      <th>5</th>\n",
       "      <td>667257</td>\n",
       "      <td>11.519</td>\n",
       "      <td>8.5</td>\n",
       "      <td>269.0</td>\n",
       "    </tr>\n",
       "    <tr>\n",
       "      <th>6</th>\n",
       "      <td>129</td>\n",
       "      <td>98.981</td>\n",
       "      <td>8.5</td>\n",
       "      <td>13359.0</td>\n",
       "    </tr>\n",
       "    <tr>\n",
       "      <th>7</th>\n",
       "      <td>372058</td>\n",
       "      <td>140.708</td>\n",
       "      <td>8.5</td>\n",
       "      <td>9073.0</td>\n",
       "    </tr>\n",
       "    <tr>\n",
       "      <th>8</th>\n",
       "      <td>389</td>\n",
       "      <td>31.990</td>\n",
       "      <td>8.5</td>\n",
       "      <td>6673.0</td>\n",
       "    </tr>\n",
       "    <tr>\n",
       "      <th>9</th>\n",
       "      <td>496243</td>\n",
       "      <td>83.701</td>\n",
       "      <td>8.5</td>\n",
       "      <td>14416.0</td>\n",
       "    </tr>\n",
       "  </tbody>\n",
       "</table>\n",
       "</div>"
      ],
      "text/plain": [
       "       id  popularity  vote_average  vote_count\n",
       "0     238      87.259           8.7     16607.0\n",
       "1     278      74.450           8.7     22327.0\n",
       "2     240      53.295           8.6     10043.0\n",
       "3   19404      39.465           8.6      3875.0\n",
       "4     424      51.786           8.6     13238.0\n",
       "5  667257      11.519           8.5       269.0\n",
       "6     129      98.981           8.5     13359.0\n",
       "7  372058     140.708           8.5      9073.0\n",
       "8     389      31.990           8.5      6673.0\n",
       "9  496243      83.701           8.5     14416.0"
      ]
     },
     "execution_count": 38,
     "metadata": {},
     "output_type": "execute_result"
    }
   ],
   "source": [
    "df.select_dtypes(include=['int64', 'float64']).head(10)"
   ]
  },
  {
   "cell_type": "markdown",
   "metadata": {},
   "source": [
    "6. Simpan dataset dengan attribute bertipe angka ke dalam file CSV."
   ]
  },
  {
   "cell_type": "code",
   "execution_count": 39,
   "metadata": {},
   "outputs": [],
   "source": [
    "df.select_dtypes(include=['int64', 'float64']).to_csv(\"Movies-angka.csv\", index=False)"
   ]
  }
 ],
 "metadata": {
  "kernelspec": {
   "display_name": "Python 3.10.7 64-bit",
   "language": "python",
   "name": "python3"
  },
  "language_info": {
   "codemirror_mode": {
    "name": "ipython",
    "version": 3
   },
   "file_extension": ".py",
   "mimetype": "text/x-python",
   "name": "python",
   "nbconvert_exporter": "python",
   "pygments_lexer": "ipython3",
   "version": "3.10.7"
  },
  "orig_nbformat": 4,
  "vscode": {
   "interpreter": {
    "hash": "27f6fea6f47ae512550f0b8facdbd035a93e1dd89633f7bf2dd00a2502c71d0d"
   }
  }
 },
 "nbformat": 4,
 "nbformat_minor": 2
}
