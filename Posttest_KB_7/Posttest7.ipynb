{
 "cells": [
  {
   "cell_type": "markdown",
   "metadata": {},
   "source": [
    "# Posttest 7\n",
    "\n",
    "Nurulfiqri Istiqamah Tahir <br>\n",
    "2009106083"
   ]
  },
  {
   "cell_type": "markdown",
   "metadata": {},
   "source": [
    "### Import Package"
   ]
  },
  {
   "cell_type": "code",
   "execution_count": 2,
   "metadata": {},
   "outputs": [],
   "source": [
    "import numpy as np\n",
    "import tensorflow as tf"
   ]
  },
  {
   "cell_type": "markdown",
   "metadata": {},
   "source": [
    "## 1. Membuat random tensor shape 5:5"
   ]
  },
  {
   "cell_type": "code",
   "execution_count": 3,
   "metadata": {},
   "outputs": [
    {
     "data": {
      "text/plain": [
       "<tf.Tensor: shape=(5, 5), dtype=float32, numpy=\n",
       "array([[-0.8113182 ,  1.4845988 ,  0.06532937, -2.4427042 ,  0.0992484 ],\n",
       "       [ 0.5912243 ,  0.59282297, -2.1229296 , -0.72289723, -0.05627038],\n",
       "       [ 0.6435448 , -0.26432407,  1.8566332 ,  0.5678417 , -0.3828359 ],\n",
       "       [-1.4853433 ,  1.2617711 , -0.02530608, -0.2646297 ,  1.5328138 ],\n",
       "       [-1.7429771 , -0.43789294, -0.56601   ,  0.32066926,  1.132831  ]],\n",
       "      dtype=float32)>"
      ]
     },
     "execution_count": 3,
     "metadata": {},
     "output_type": "execute_result"
    }
   ],
   "source": [
    "random_tensor = tf.random.normal([5,5], mean=0, stddev=1, seed=1)\n",
    "random_tensor"
   ]
  },
  {
   "cell_type": "markdown",
   "metadata": {},
   "source": [
    "## 2. Membuat prime tensor list bil prima shape 5:5"
   ]
  },
  {
   "cell_type": "code",
   "execution_count": 5,
   "metadata": {},
   "outputs": [
    {
     "data": {
      "text/plain": [
       "<tf.Tensor: shape=(5, 5), dtype=float32, numpy=\n",
       "array([[  2.,   3.,   5.,   7.,  11.],\n",
       "       [ 13.,  17.,  19.,  23.,  29.],\n",
       "       [ 31.,  37.,  41.,  43.,  47.],\n",
       "       [ 53.,  59.,  61.,  71.,  73.],\n",
       "       [ 79.,  83.,  89.,  97., 101.]], dtype=float32)>"
      ]
     },
     "execution_count": 5,
     "metadata": {},
     "output_type": "execute_result"
    }
   ],
   "source": [
    "prime_tensor = tf.constant([2, 3, 5, 7, 11, 13, 17, 19, 23, 29, 31, 37, 41, 43, 47, 53, 59, 61, 71, 73, 79, 83, 89, 97, 101], \n",
    "shape=[5, 5], dtype=tf.float32)\n",
    "prime_tensor"
   ]
  },
  {
   "cell_type": "markdown",
   "metadata": {},
   "source": [
    "## 3. Aritmatika"
   ]
  },
  {
   "cell_type": "markdown",
   "metadata": {},
   "source": [
    "### a. Penjumlahan"
   ]
  },
  {
   "cell_type": "code",
   "execution_count": 6,
   "metadata": {},
   "outputs": [
    {
     "name": "stdout",
     "output_type": "stream",
     "text": [
      "tf.Tensor(\n",
      "[[  1.1886818   4.4845986   5.0653296   4.557296   11.099248 ]\n",
      " [ 13.591225   17.592823   16.877071   22.277103   28.94373  ]\n",
      " [ 31.643545   36.735676   42.856632   43.56784    46.617165 ]\n",
      " [ 51.514656   60.261772   60.974693   70.73537    74.532814 ]\n",
      " [ 77.25702    82.5621     88.43399    97.32067   102.13283  ]], shape=(5, 5), dtype=float32)\n"
     ]
    }
   ],
   "source": [
    "print(tf.add(random_tensor, prime_tensor))"
   ]
  },
  {
   "cell_type": "markdown",
   "metadata": {},
   "source": [
    "### b. Perkalian"
   ]
  },
  {
   "cell_type": "code",
   "execution_count": 7,
   "metadata": {},
   "outputs": [
    {
     "name": "stdout",
     "output_type": "stream",
     "text": [
      "tf.Tensor(\n",
      "[[  -1.6226364     4.4537964     0.32664686  -17.09893       1.0917324 ]\n",
      " [   7.685916     10.077991    -40.335663    -16.626637     -1.6318411 ]\n",
      " [  19.949888     -9.77999      76.12196      24.417194    -17.993286  ]\n",
      " [ -78.7232       74.444496     -1.5436709   -18.788708    111.89541   ]\n",
      " [-137.69519     -36.345116    -50.37489      31.10492     114.41593   ]], shape=(5, 5), dtype=float32)\n"
     ]
    }
   ],
   "source": [
    "print(tf.multiply(random_tensor, prime_tensor))"
   ]
  },
  {
   "cell_type": "markdown",
   "metadata": {},
   "source": [
    "### c. Pembagian"
   ]
  },
  {
   "cell_type": "code",
   "execution_count": 8,
   "metadata": {},
   "outputs": [
    {
     "name": "stdout",
     "output_type": "stream",
     "text": [
      "tf.Tensor(\n",
      "[[-4.0565911e-01  4.9486625e-01  1.3065875e-02 -3.4895775e-01\n",
      "   9.0225823e-03]\n",
      " [ 4.5478795e-02  3.4871940e-02 -1.1173314e-01 -3.1430315e-02\n",
      "  -1.9403580e-03]\n",
      " [ 2.0759510e-02 -7.1438937e-03  4.5283735e-02  1.3205621e-02\n",
      "  -8.1454450e-03]\n",
      " [-2.8025346e-02  2.1385951e-02 -4.1485377e-04 -3.7271788e-03\n",
      "   2.0997450e-02]\n",
      " [-2.2063002e-02 -5.2758185e-03 -6.3596629e-03  3.3058687e-03\n",
      "   1.1216149e-02]], shape=(5, 5), dtype=float32)\n"
     ]
    }
   ],
   "source": [
    "print(tf.divide(random_tensor, prime_tensor))"
   ]
  },
  {
   "cell_type": "markdown",
   "metadata": {},
   "source": [
    "### d. Logaritma"
   ]
  },
  {
   "cell_type": "code",
   "execution_count": 11,
   "metadata": {},
   "outputs": [
    {
     "name": "stdout",
     "output_type": "stream",
     "text": [
      "tf.Tensor(\n",
      "[[        nan  0.39514455 -2.7283134          nan -2.3101294 ]\n",
      " [-0.5255598  -0.52285945         nan         nan         nan]\n",
      " [-0.44076362         nan  0.61876476 -0.5659126          nan]\n",
      " [        nan  0.23251635         nan         nan  0.42710513]\n",
      " [        nan         nan         nan -1.1373451   0.12471979]], shape=(5, 5), dtype=float32)\n"
     ]
    }
   ],
   "source": [
    "print(tf.math.log(random_tensor, prime_tensor))"
   ]
  },
  {
   "cell_type": "markdown",
   "metadata": {},
   "source": [
    "### e. Pangkat"
   ]
  },
  {
   "cell_type": "code",
   "execution_count": 12,
   "metadata": {},
   "outputs": [
    {
     "name": "stdout",
     "output_type": "stream",
     "text": [
      "tf.Tensor(\n",
      "[[ 6.58237278e-01  3.27210546e+00  1.18998764e-06 -5.18914917e+02\n",
      "   9.20362137e-12]\n",
      " [ 1.07839960e-03  1.37951167e-04 -1.62845650e+06 -5.73800469e-04\n",
      "  -5.72948387e-37]\n",
      " [ 1.16397109e-06 -4.15966456e-22  1.04176673e+11  2.70254808e-11\n",
      "  -2.52112615e-20]\n",
      " [-1.27886054e+09  9.07514625e+05 -0.00000000e+00 -0.00000000e+00\n",
      "   3.47317018e+13]\n",
      " [-1.15356923e+19 -1.71214119e-30 -1.00310215e-22  0.00000000e+00\n",
      "   2.95581156e+05]], shape=(5, 5), dtype=float32)\n"
     ]
    }
   ],
   "source": [
    "print(tf.pow(random_tensor, prime_tensor))"
   ]
  },
  {
   "cell_type": "markdown",
   "metadata": {},
   "source": [
    "## 4. Nilai Maks & Min random_tensor"
   ]
  },
  {
   "cell_type": "markdown",
   "metadata": {},
   "source": [
    "### a. Nilai maks"
   ]
  },
  {
   "cell_type": "code",
   "execution_count": 32,
   "metadata": {},
   "outputs": [
    {
     "name": "stdout",
     "output_type": "stream",
     "text": [
      "Nilai random_tensor\n",
      "[[-2.0362458   0.7123839  -0.01498218 -1.3015026  -1.2278615 ]\n",
      " [-0.88556784 -0.9364435   1.8421996   0.6843851  -1.8018692 ]\n",
      " [-2.1411848   1.0516375  -0.05620641 -1.2369095  -0.2732566 ]\n",
      " [-1.0644635  -2.2357671   0.38134882  0.55538404 -0.9463829 ]\n",
      " [ 0.41898483 -1.0607793   0.37958243 -0.75984293  0.35092986]]\n",
      "\n",
      "Nilai maksimal berdasarkan kolom: [4 2 1 1 4]\n",
      "Nilai maksimal berdasarkan baris: [1 2 1 3 0]\n"
     ]
    }
   ],
   "source": [
    "argmax_random = tf.random.normal([5,5])\n",
    "print(\"Nilai random_tensor\")\n",
    "print(argmax_random.numpy())\n",
    "\n",
    "max_random_1 = tf.argmax(argmax_random, axis = 0)\n",
    "max_random_2 = tf.argmax(argmax_random, axis = 1)\n",
    "\n",
    "print(\"\\nNilai maksimal berdasarkan kolom:\",max_random_1.numpy())\n",
    "print(\"Nilai maksimal berdasarkan baris:\",max_random_2.numpy())"
   ]
  },
  {
   "cell_type": "markdown",
   "metadata": {},
   "source": [
    "### b. Nilai min"
   ]
  },
  {
   "cell_type": "code",
   "execution_count": 33,
   "metadata": {},
   "outputs": [
    {
     "name": "stdout",
     "output_type": "stream",
     "text": [
      "Nilai random_tensor\n",
      "[[-2.0362458   0.7123839  -0.01498218 -1.3015026  -1.2278615 ]\n",
      " [-0.88556784 -0.9364435   1.8421996   0.6843851  -1.8018692 ]\n",
      " [-2.1411848   1.0516375  -0.05620641 -1.2369095  -0.2732566 ]\n",
      " [-1.0644635  -2.2357671   0.38134882  0.55538404 -0.9463829 ]\n",
      " [ 0.41898483 -1.0607793   0.37958243 -0.75984293  0.35092986]]\n",
      "\n",
      "Nilai minimum berdasarkan kolom: [3 1 1 0 0]\n",
      "Nilai minimum berdasarkan baris: [3 2 4 4 3]\n"
     ]
    }
   ],
   "source": [
    "argmin_random = tf.random.normal([5,5])\n",
    "print(\"Nilai random_tensor\")\n",
    "print(argmax_random.numpy())\n",
    "\n",
    "min_random_1 = tf.argmin(argmin_random, axis = 0)\n",
    "min_random_2 = tf.argmin(argmin_random, axis = 1)\n",
    "\n",
    "print(\"\\nNilai minimum berdasarkan kolom:\",min_random_1.numpy())\n",
    "print(\"Nilai minimum berdasarkan baris:\",min_random_2.numpy())"
   ]
  },
  {
   "cell_type": "markdown",
   "metadata": {},
   "source": [
    "## 5.  Penggabungan variable random_tensor dengan prime_tensor"
   ]
  },
  {
   "cell_type": "code",
   "execution_count": 27,
   "metadata": {},
   "outputs": [
    {
     "name": "stdout",
     "output_type": "stream",
     "text": [
      "Original size data       : (5, 5) (5, 5)\n",
      "Penggabungan size data   : (10, 5)\n"
     ]
    }
   ],
   "source": [
    "random_tensor = tf.random.normal([5,5], mean=0, stddev=1, seed=1)\n",
    "prime_tensor = tf.constant([2, 3, 5, 7, 11, 13, 17, 19, 23, 29, 31, 37, 41, 43, 47, 53, 59, 61, 71, 73, 79, 83, 89, 97, 101], \n",
    "shape=[5, 5], dtype=tf.float32)\n",
    "\n",
    "print(\"Original size data       :\",random_tensor.shape,prime_tensor.shape)\n",
    "concated_tensor = tf.concat([random_tensor,prime_tensor],axis=0)\n",
    "print(\"Penggabungan size data   :\",concated_tensor.shape)"
   ]
  },
  {
   "cell_type": "code",
   "execution_count": 31,
   "metadata": {},
   "outputs": [
    {
     "name": "stdout",
     "output_type": "stream",
     "text": [
      "Data random tensor\n",
      " [[-0.09829053  1.2328393   1.0841055  -0.03147423  0.8239386 ]\n",
      " [-1.343977   -0.5825029  -1.2442445   0.78904885 -1.5128906 ]\n",
      " [ 2.1204236   0.8943947  -0.08512403 -3.0256145   0.0541295 ]\n",
      " [ 0.4327671  -0.29732513  0.9791035   1.6596949   0.11454969]\n",
      " [ 0.01530319 -0.2602644  -0.7217767  -0.8932251   0.35070774]] \n",
      "\n",
      "Data prime tensor\n",
      ": [[  2.   3.   5.   7.  11.]\n",
      " [ 13.  17.  19.  23.  29.]\n",
      " [ 31.  37.  41.  43.  47.]\n",
      " [ 53.  59.  61.  71.  73.]\n",
      " [ 79.  83.  89.  97. 101.]] \n",
      "\n",
      "Sorted random tensor by descending order\n",
      " [[ 1.2328393   1.0841055   0.8239386  -0.03147423 -0.09829053]\n",
      " [ 0.78904885 -0.5825029  -1.2442445  -1.343977   -1.5128906 ]\n",
      " [ 2.1204236   0.8943947   0.0541295  -0.08512403 -3.0256145 ]\n",
      " [ 1.6596949   0.9791035   0.4327671   0.11454969 -0.29732513]\n",
      " [ 0.35070774  0.01530319 -0.2602644  -0.7217767  -0.8932251 ]] \n",
      "\n",
      "Sorted prime tensor by descending order\n",
      " [[ 11.   7.   5.   3.   2.]\n",
      " [ 29.  23.  19.  17.  13.]\n",
      " [ 47.  43.  41.  37.  31.]\n",
      " [ 73.  71.  61.  59.  53.]\n",
      " [101.  97.  89.  83.  79.]] \n",
      "\n"
     ]
    }
   ],
   "source": [
    "random_tensor = tf.random.normal([5,5], mean=0, stddev=1, seed=1)\n",
    "print(\"Data random tensor\\n\",random_tensor.numpy(),\"\\n\")\n",
    "prime_tensor = tf.constant([2, 3, 5, 7, 11, 13, 17, 19, 23, 29, 31, 37, 41, 43, 47, 53, 59, 61, 71, 73, 79, 83, 89, 97, 101], \n",
    "shape=[5, 5], dtype=tf.float32)\n",
    "print(\"Data prime tensor\\n:\",prime_tensor.numpy(),\"\\n\")\n",
    "\n",
    "sorted_random = tf.sort(random_tensor, direction = \"DESCENDING\")\n",
    "print(\"Sorted random tensor by descending order\\n\",sorted_random.numpy(),\"\\n\")\n",
    "sorted_prime = tf.sort(prime_tensor, direction = \"DESCENDING\")\n",
    "print(\"Sorted prime tensor by descending order\\n\",sorted_prime.numpy(),\"\\n\")"
   ]
  }
 ],
 "metadata": {
  "kernelspec": {
   "display_name": "Python 3.10.7 64-bit",
   "language": "python",
   "name": "python3"
  },
  "language_info": {
   "codemirror_mode": {
    "name": "ipython",
    "version": 3
   },
   "file_extension": ".py",
   "mimetype": "text/x-python",
   "name": "python",
   "nbconvert_exporter": "python",
   "pygments_lexer": "ipython3",
   "version": "3.10.7"
  },
  "orig_nbformat": 4,
  "vscode": {
   "interpreter": {
    "hash": "27f6fea6f47ae512550f0b8facdbd035a93e1dd89633f7bf2dd00a2502c71d0d"
   }
  }
 },
 "nbformat": 4,
 "nbformat_minor": 2
}
